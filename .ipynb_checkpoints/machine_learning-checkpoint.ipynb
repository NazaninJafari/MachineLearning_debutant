{
 "cells": [
  {
   "cell_type": "code",
   "execution_count": null,
   "id": "2507966b-d51a-41f2-b05c-513e44b1389a",
   "metadata": {},
   "outputs": [],
   "source": [
    "import numpy\n",
    "\n",
    "speed = [99,86,87,88,111,86,103,87,94,78,77,85,86]\n",
    "\n",
    "x = numpy.mean(speed)\n",
    "\n",
    "print(x)"
   ]
  },
  {
   "cell_type": "code",
   "execution_count": null,
   "id": "b312aa25-31e5-44e7-ab45-0d0229de8619",
   "metadata": {},
   "outputs": [],
   "source": [
    "x = numpy.median(speed)\n",
    "print(x)"
   ]
  },
  {
   "cell_type": "code",
   "execution_count": null,
   "id": "a719e0f6-1ed8-49f7-8fe2-4cb6c94b402a",
   "metadata": {},
   "outputs": [],
   "source": []
  }
 ],
 "metadata": {
  "kernelspec": {
   "display_name": "Python 3 (ipykernel)",
   "language": "python",
   "name": "python3"
  },
  "language_info": {
   "codemirror_mode": {
    "name": "ipython",
    "version": 3
   },
   "file_extension": ".py",
   "mimetype": "text/x-python",
   "name": "python",
   "nbconvert_exporter": "python",
   "pygments_lexer": "ipython3",
   "version": "3.10.8"
  },
  "vscode": {
   "interpreter": {
    "hash": "8744147583a22532b1345f9341a2e07f3d807b5c5b7bd75f86ce11cf741914a8"
   }
  }
 },
 "nbformat": 4,
 "nbformat_minor": 5
}
